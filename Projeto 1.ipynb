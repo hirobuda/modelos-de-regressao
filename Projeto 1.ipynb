{
 "cells": [
  {
   "cell_type": "markdown",
   "id": "f1f0a8eb",
   "metadata": {},
   "source": [
    "# Projeto 1 \n",
    "\n",
    "**aluno:** Pedro Hiroshi Ely Ito\n",
    "\n",
    "**nUSP:** 10288803"
   ]
  },
  {
   "cell_type": "markdown",
   "id": "2a6c5460",
   "metadata": {},
   "source": [
    "## 1)\n",
    "\n",
    "### a)\n",
    "\n",
    "#### i) obtendo o estimador:\n",
    "\n",
    "Considere o modelo $Y_i = \\beta_1 X_i$. Minimizando $\\sum_i e_i^2 = \\sum_i (Y_i - \\beta_1 X_i)^2$:\n",
    "\n",
    "$$\n",
    "\\frac{\\partial}{\\partial \\beta_1}\\sum_i (Y_i - \\hat\\beta_1 X_i)^2 = 0\\\\\n",
    "\\sum_i 2(Y_i - \\hat\\beta_1 X_i)X_i = 0\\\\\n",
    "2\\sum_i (Y_iX_i - \\hat\\beta_1 X_i^2) = 0\\\\\n",
    "\\hat\\beta_1 = \\frac{\\sum_i Y_iX_i}{\\sum_i X_i^2}\n",
    "$$"
   ]
  },
  {
   "cell_type": "markdown",
   "id": "3ba76631",
   "metadata": {},
   "source": [
    "#### ii) mostrando que $\\hat\\beta_1$ não é viciado:\n",
    "\n",
    "$$\n",
    "E[\\hat\\beta_1] = E\\left[\\frac{\\sum_i Y_iX_i}{\\sum_i X_i^2}\\right]\\\\\n",
    "E[\\hat\\beta_1] = E\\left[\\sum_i c_i Y_i\\right]\\\\\n",
    "E[\\hat\\beta_1] = \\sum_i c_i E[Y_i]\\\\\n",
    "E[\\hat\\beta_1] = \\sum_i c_i (\\beta_1 X_i)\\\\\n",
    "E[\\hat\\beta_1] = \\sum_i \\frac{X_i}{\\sum_i X_i^2} (\\beta_1 X_i)\\\\\n",
    "E[\\hat\\beta_1] = \\sum_i \\frac{X_i^2}{\\sum_i X_i^2} \\beta_1\\\\\n",
    "E[\\hat\\beta_1] = \\beta_1.\\\\\n",
    "$$\n",
    "\n",
    "onde $c_i = \\frac{X_i}{\\sum_i X_i^2}$ "
   ]
  },
  {
   "cell_type": "markdown",
   "id": "8427910c",
   "metadata": {},
   "source": [
    "#### iii) ajustando o modelo:"
   ]
  },
  {
   "cell_type": "code",
   "execution_count": 1,
   "id": "75a440aa",
   "metadata": {},
   "outputs": [],
   "source": [
    "import numpy as np\n",
    "import matplotlib.pyplot as plt"
   ]
  },
  {
   "cell_type": "code",
   "execution_count": 2,
   "id": "d68244da",
   "metadata": {},
   "outputs": [
    {
     "data": {
      "text/plain": [
       "<matplotlib.collections.PathCollection at 0x7f7088665de0>"
      ]
     },
     "execution_count": 2,
     "metadata": {},
     "output_type": "execute_result"
    },
    {
     "data": {
      "image/png": "[encoded data removed]",
      "text/plain": [
       "<Figure size 432x288 with 1 Axes>"
      ]
     },
     "metadata": {
      "needs_background": "light"
     },
     "output_type": "display_data"
    }
   ],
   "source": [
    "# lendo os dados:\n",
    "\n",
    "dist = np.array([68, 137, 315, 405, 700])\n",
    "vel = np.array([2.4, 4.7, 12.0, 14.44, 26.0])\n",
    "\n",
    "#visualizando os dados:\n",
    "plt.scatter(dist,vel)"
   ]
  },
  {
   "cell_type": "code",
   "execution_count": 12,
   "id": "f73a345f",
   "metadata": {},
   "outputs": [
    {
     "name": "stdout",
     "output_type": "stream",
     "text": [
      "beta1 sem intercepto: 0.03687060850352092\n"
     ]
    }
   ],
   "source": [
    "# calculando o estimador:\n",
    "\n",
    "# implementando o estimador derivado anteriormente:\n",
    "beta1_no_intercept = np.sum([dist[i]*vel[i] for i in range(len(dist))])/np.sum([x**2 for x in dist])\n",
    "print(\"beta1 sem intercepto:\", beta1_no_intercept)"
   ]
  },
  {
   "cell_type": "code",
   "execution_count": 13,
   "id": "fdc9e773",
   "metadata": {},
   "outputs": [
    {
     "data": {
      "text/plain": [
       "[<matplotlib.lines.Line2D at 0x7f707cdda890>]"
      ]
     },
     "execution_count": 13,
     "metadata": {},
     "output_type": "execute_result"
    },
    {
     "data": {
      "image/png": "[encoded data removed]",
      "text/plain": [
       "<Figure size 432x288 with 1 Axes>"
      ]
     },
     "metadata": {
      "needs_background": "light"
     },
     "output_type": "display_data"
    }
   ],
   "source": [
    "# verificando o plot da reta obtida\n",
    "plt.scatter(dist,vel)\n",
    "plt.plot(dist, beta1_no_intercept*dist)"
   ]
  },
  {
   "cell_type": "markdown",
   "id": "f667289f",
   "metadata": {},
   "source": [
    "#### iv) verificando a significância da regressão:\n",
    "\n",
    "Fazendo o teste de hipótese:\n",
    "\n",
    "$$\n",
    "H_0: \\hat\\beta_1 = 0\\\\\n",
    "H_1: \\hat\\beta_1 \\neq 0\n",
    "$$\n",
    "\n",
    "Para isso, calculamos a estatística $t$ como:\n",
    "\n",
    "$$\n",
    "t = \\frac{\\hat\\beta_1}{\\text{SE}(\\hat\\beta_1)}\\\\\n",
    "$$\n",
    "\n",
    "Neste caso, temos que :\n",
    "\n",
    "$$\n",
    "\\text{SE} = \\sqrt{\\frac{\\text{MSE}}{S_{XX}}}\n",
    "$$\n",
    "\n",
    "onde:\n",
    "\n",
    "$$\n",
    "\\text{MSE} = \\frac{\\sum_i (y_i-\\hat y_i)^2}{n-1}\n",
    "$$\n",
    "\n",
    "isto é,\n",
    "\n",
    "$$\n",
    "t = \\frac{\\hat\\beta_1}{\\sqrt{\\frac{\\frac{\\sum_i (y_i-\\hat y_i)^2}{n-1}}{S_{XX}}}} \n",
    "$$"
   ]
  },
  {
   "cell_type": "code",
   "execution_count": 16,
   "id": "af5d4d17",
   "metadata": {},
   "outputs": [
    {
     "name": "stdout",
     "output_type": "stream",
     "text": [
      "t-statistic = 31.317702062270467\n",
      "t_alpha/2,1 = 12.706\n",
      "Rejeitar H0: True\n"
     ]
    }
   ],
   "source": [
    "t = lambda beta1, ssr, sxx: beta1/np.sqrt(ssr/sxx)\n",
    "sxx =  lambda X: np.sum([(X[i] - np.mean(X))**2 for i in range(3)])\n",
    "\n",
    "ssr_no_intercept = 0.5627/4\n",
    "t_no_intercept = t(beta1_no_intercept, ssr_no_intercept, sxx(dist))\n",
    "print(\"t-statistic =\", t_no_intercept)\n",
    "print(\"t_alpha/2,1 =\", 12.706)\n",
    "print(\"Rejeitar H0:\", abs(t_no_intercept) >= 12.706)"
   ]
  },
  {
   "cell_type": "markdown",
   "id": "c7fcae9a",
   "metadata": {},
   "source": [
    "Como $|t| > t_{\\alpha/2, 1}$, rejeitamos $H_0$ e a regressão é significativa."
   ]
  },
  {
   "cell_type": "markdown",
   "id": "21ab30ea",
   "metadata": {},
   "source": [
    "### b)\n",
    "\n",
    "#### i) ajustado o modelo:\n",
    "\n",
    "Nesse caso, podemos usar os estimadores fornecidos:\n",
    "\n",
    "$$\n",
    "\\hat\\beta_1 = \\frac{S_{XX}}{S_{XY}}\\\\\n",
    "\\hat\\beta_0 = \\bar Y - \\hat\\beta_1\\bar X \n",
    "$$"
   ]
  },
  {
   "cell_type": "code",
   "execution_count": 17,
   "id": "9a6e336b",
   "metadata": {},
   "outputs": [
    {
     "name": "stdout",
     "output_type": "stream",
     "text": [
      "beta1 com intercepto 0.037418738238105084\n",
      "beta0 com intercepto -0.2530899273841527\n"
     ]
    }
   ],
   "source": [
    "sxy = lambda X,Y: np.sum([(X[i] - np.mean(X))*(Y[i] - np.mean(Y)) for i in range(3)])\n",
    "\n",
    "beta1_intercept = sxy(dist, vel)/sxx(dist)\n",
    "beta0 = np.mean(vel) - beta1_intercept*np.mean(dist)\n",
    "print(\"beta1 com intercepto\", beta1_intercept)\n",
    "print(\"beta0 com intercepto\", beta0)"
   ]
  },
  {
   "cell_type": "code",
   "execution_count": 7,
   "id": "169822a2",
   "metadata": {},
   "outputs": [
    {
     "data": {
      "text/plain": [
       "[<matplotlib.lines.Line2D at 0x7f70885ebca0>]"
      ]
     },
     "execution_count": 7,
     "metadata": {},
     "output_type": "execute_result"
    },
    {
     "data": {
      "image/png": "[encoded data removed]",
      "text/plain": [
       "<Figure size 432x288 with 1 Axes>"
      ]
     },
     "metadata": {
      "needs_background": "light"
     },
     "output_type": "display_data"
    }
   ],
   "source": [
    "plt.scatter(dist, vel)\n",
    "plt.plot(dist, beta0 + beta1_intercept*dist)"
   ]
  },
  {
   "cell_type": "markdown",
   "id": "321f06ed",
   "metadata": {},
   "source": [
    "#### ii) Verificando a significância da regressão:"
   ]
  },
  {
   "cell_type": "code",
   "execution_count": 8,
   "id": "d0203668",
   "metadata": {},
   "outputs": [
    {
     "name": "stdout",
     "output_type": "stream",
     "text": [
      "t-statistic = 29.961718991147563\n",
      "t_0.025,2 = 4.303\n",
      "Rejeitar H0: True\n"
     ]
    }
   ],
   "source": [
    "ssr_intercept = 0.4749/3\n",
    "\n",
    "t_int = t(beta1_intercept, ssr_intercept, sxx(dist))\n",
    "alpha = 0.05\n",
    "print(\"t-statistic =\", t_int)\n",
    "print(f\"t_{alpha/2},2 =\", 4.303)\n",
    "print(\"Rejeitar H0:\", abs(t_int) >= 4.303)"
   ]
  },
  {
   "cell_type": "markdown",
   "id": "e3717bab",
   "metadata": {},
   "source": [
    "Novamente, rejeitamos $H_0$ e a regressão é significativa.\n",
    "\n",
    "#### iii) avaliando $\\beta_0 = 0$:\n",
    "\n",
    "Realizando o teste de hipótese:\n",
    "\n",
    "$$\n",
    "H_0: \\beta_0 = 0\\\\\n",
    "H_1: \\beta_0 \\neq 0\\\\\n",
    "$$\n",
    "\n",
    "Com $\\text{Var}(\\hat\\beta_0)$ fornecido, podemos calcular $t$ como:\n",
    "\n",
    "$$\n",
    "t = \\frac{\\hat\\beta_0}{\\sqrt{\\text{MSE}\\frac{\\sum_i X_i^2}{nS_{XX}}}}\\\\\n",
    "t = \\frac{\\hat\\beta_0}{\\sqrt{\\frac{\\sum_i (y_i-\\hat y_i)^2}{n-2}\\frac{\\sum_i X_i^2}{nS_{XX}}}}\n",
    "$$\n"
   ]
  },
  {
   "cell_type": "code",
   "execution_count": 9,
   "id": "30288b91",
   "metadata": {
    "scrolled": false
   },
   "outputs": [
    {
     "name": "stdout",
     "output_type": "stream",
     "text": [
      "t-statistic = -5.066296990331227e-06\n",
      "t_0.025,2 = 4.303\n",
      "Rejeitar H0: False\n",
      "-----------------------------------\n",
      "t_0.005,2 = 9.925\n",
      "Rejeitar H0: False\n"
     ]
    }
   ],
   "source": [
    "var = np.sum(dist**2)/(5*sxx(dist))\n",
    "MSE = 0.4749/3\n",
    "t_intercept = lambda beta0, MSE, var, X: beta0/np.sqrt(MSE*np.sum(X**2)/5*sxx(X))\n",
    "t_int = t_intercept(beta0, MSE, var, dist)\n",
    "\n",
    "alpha = 0.05\n",
    "print(\"t-statistic =\", t_int)\n",
    "print(f\"t_{alpha/2},2 =\", 4.303)\n",
    "print(\"Rejeitar H0:\", abs(t_int) >= 4.303)\n",
    "print(35*\"-\")\n",
    "alpha = 0.01\n",
    "print(f\"t_{alpha/2},2 =\", 9.925)\n",
    "print(\"Rejeitar H0:\", abs(t_int) >= 9.925)"
   ]
  },
  {
   "cell_type": "markdown",
   "id": "5715936d",
   "metadata": {},
   "source": [
    "Assim, não rejeitamos $H_0$, tanto para $\\alpha=0.05$ quanto para $\\alpha=0.01$.\n",
    "\n",
    "### c)\n",
    "\n",
    "Calculando $R^2$ para ambos os modelos:"
   ]
  },
  {
   "cell_type": "code",
   "execution_count": 22,
   "id": "614e3d00",
   "metadata": {},
   "outputs": [
    {
     "name": "stdout",
     "output_type": "stream",
     "text": [
      "R^2 do modelo sem intercepto 0.9983801754786045\n",
      "R^2 do modelo com intercepto 0.9986304426183398\n"
     ]
    }
   ],
   "source": [
    "model_no_intercept = lambda x: beta1_no_intercept*x\n",
    "model_intercept = lambda x: beta0 + beta1_intercept*x\n",
    "\n",
    "def r_2(f, X, Y):\n",
    "    sse = np.sum([(Y[i] - f(X[i]))**2 for i in range(len(X))])\n",
    "    sst = np.sum([(Y[i] - np.mean(Y))**2 for i in range(len(Y))])\n",
    "    return 1 - sse/sst\n",
    "\n",
    "print(\"R^2 do modelo sem intercepto\", r_2(model_no_intercept, dist, vel))\n",
    "print(\"R^2 do modelo com intercepto\", r_2(model_intercept, dist, vel))"
   ]
  },
  {
   "cell_type": "markdown",
   "id": "ea3dc801",
   "metadata": {},
   "source": [
    "## 2)\n",
    "\n",
    "### a)\n",
    "\n",
    "Defina a variável aleatória $\\psi = Y - \\hat Y$, onde $Y$ é uma nova observação. Temos:\n",
    "\n",
    "$$\n",
    "\\text{Var}(\\psi) = \\text{Var}(Y - \\hat Y)\\\\\n",
    "\\text{Var}(\\psi) = \\text{Var}(Y - \\beta_0 + \\beta_1X)\\\\\n",
    "\\text{Var}(\\psi) = \\text{Var}(Y - \\beta_0 + \\beta_1X)\\\\\n",
    "$$"
   ]
  }
 ],
 "metadata": {
  "kernelspec": {
   "display_name": "Python 3 (ipykernel)",
   "language": "python",
   "name": "python3"
  },
  "language_info": {
   "codemirror_mode": {
    "name": "ipython",
    "version": 3
   },
   "file_extension": ".py",
   "mimetype": "text/x-python",
   "name": "python",
   "nbconvert_exporter": "python",
   "pygments_lexer": "ipython3",
   "version": "3.10.7"
  }
 },
 "nbformat": 4,
 "nbformat_minor": 5
}
