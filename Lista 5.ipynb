{
 "cells": [
  {
   "cell_type": "markdown",
   "id": "3de384a3",
   "metadata": {},
   "source": [
    "# Lista 5 \n",
    "\n",
    "**aluno:** Pedro Hiroshi Ely Ito\n",
    "\n",
    "**nUSP:** 10288803"
   ]
  },
  {
   "cell_type": "markdown",
   "id": "cca418bf",
   "metadata": {},
   "source": [
    "## 1)\n",
    "\n",
    "### a)\n",
    "\n",
    "Escrevemos a eq.1 em forma matricial:\n",
    "\n",
    "$$\n",
    "Y = X\\beta + \\epsilon\n",
    "$$\n",
    "\n",
    "onde $X$, $\\beta$ e $\\epsilon$ são definidas como:\n",
    "\n",
    "- i) $\\beta$\n",
    "\n",
    "$$\n",
    "\\beta \\in \\mathbb R^{p-1}\\\\\n",
    "\\beta := \\begin{bmatrix}\n",
    "\\beta_0\\\\\\beta_1\\\\.\\\\.\\\\.\\\\\\beta_{p-1}\n",
    "\\end{bmatrix}\n",
    "$$\n",
    "\n",
    "- ii) $X$\n",
    "\n",
    "Seja $\\mathcal M(m,n,\\mathbb R)$ o conjunto das matrizes $m\\times n$ com entradas em $\\mathbb R$. \n",
    "\n",
    "$$ \n",
    "X \\in \\mathcal M(n,p-1,\\mathbb R)\\\\\n",
    "X := \\begin{bmatrix}\n",
    "1 & X_{11} & X_{12} & ... & X_{1,p-1}\\\\\n",
    "1 & X_{21} & X_{22} & ... & X_{2,p-1}\\\\\n",
    "&&.\\\\&&.\\\\&&.\\\\\n",
    "1 & X_{n1} & X_{n2} & ... & X_{n,p-1}\\\\\n",
    "\\end{bmatrix}\n",
    "$$\n",
    "\n",
    "- iii) $\\epsilon$\n",
    "\n",
    "$$\n",
    "\\epsilon \\in \\mathbb R^{p-1}\\\\\n",
    "\\epsilon := \\begin{bmatrix}\n",
    "\\epsilon_1\\\\\n",
    ".\\\\.\\\\.\\\\\n",
    "\\epsilon_{p-1}\n",
    "\\end{bmatrix}\n",
    "$$\n",
    "\n",
    "Supomos que $\\epsilon_i$ são independentes e seguem uma distribuição normal $N(0,\\sigma^2)$."
   ]
  },
  {
   "cell_type": "markdown",
   "id": "f66abb3b",
   "metadata": {},
   "source": [
    "###  b)\n",
    "\n",
    "#### obtendo $\\beta$:\n",
    "\n",
    "Queremos minimizar $\\sum_i \\epsilon_i^2 = \\sum_i Y_i - \\beta_0 + \\beta_1X_{1i} + \\beta_1 X_{2i}+...+\\beta_{p-1}X_{p-1,i}$\n",
    "\n",
    "Esse somatório pode ser escrito na forma matricial:\n",
    "\n",
    "$$\n",
    "\\begin{aligned}\n",
    "\\sum_i \\epsilon_i^2 &= (Y - X\\beta)^T(Y - X\\beta)\\\\\n",
    "&= Y^TY - Y^TX\\beta - \\beta^TX^TY + \\beta^TX^TX\\beta\\\\\n",
    "&= Y^TY - (Y^TX\\beta)^T - \\beta^TX^TY + \\beta^TX^TX\\beta\\\\\n",
    "&= Y^TY - \\beta^TX^TY - \\beta^TX^TY + \\beta^TX^TX\\beta\\\\\n",
    "&= Y^TY - 2\\beta^TX^TY + \\beta^TX^TX\\beta\\\\\n",
    "\\end{aligned}\n",
    "$$\n",
    "\n",
    "Minimizando com respeito a $\\beta$:\n",
    "\n",
    "$$\n",
    "\\frac{\\partial}{\\partial \\hat\\beta} (Y^TY - 2\\hat\\beta^TX^TY + \\hat\\beta^TX^TX\\hat\\beta) = 0\\\\\n",
    "-2X^TY + 2X^TX\\hat\\beta = 0\\\\\n",
    "\\hat\\beta = (X^TX)^{-1}X^TY\n",
    "$$\n",
    "\n",
    "#### calculando $E[\\hat\\beta]$:\n",
    "\n",
    "$$\n",
    "\\begin{aligned}\n",
    "E[\\hat\\beta] &= E[(X^TX)^{-1}X^TY]\\\\\n",
    "&= (X^TX)^{-1}X^TE[Y]\\\\\n",
    "&= (X^TX)^{-1}X^TX\\beta\\\\\n",
    "&= \\beta\\\\\n",
    "\\end{aligned}\n",
    "$$\n",
    "\n",
    "Logo, $\\hat\\beta$ não é viciado.\n",
    "\n",
    "#### calculando $\\text{Var}[\\hat\\beta]$:\n",
    "\n",
    "$$\n",
    "\\begin{aligned}\n",
    "\\text{Var}[\\hat\\beta] &= \\text{Var}[(X^TX)^{-1}X^TY]\\\\\n",
    "&= (X^TX)^{-1}X^T\\text{Var}[Y]((X^TX)^{-1}X^T)^T\\\\\n",
    "&= \\sigma^2(X^TX)^{-1}X^TX((X^TX)^{-1})^T\\\\\n",
    "&= \\sigma^2(X^TX)^{-1}\\\\\n",
    "\\end{aligned}\n",
    "$$"
   ]
  },
  {
   "cell_type": "markdown",
   "id": "e6ae0129",
   "metadata": {},
   "source": [
    "### c)\n",
    "\n",
    "#### calculando $E[\\hat Y]$:\n",
    "\n",
    "$$\n",
    "\\begin{aligned}\n",
    "E[\\hat Y] &= E[X\\hat\\beta]\\\\\n",
    "&= XE[\\hat\\beta]\\\\\n",
    "&= X\\beta\n",
    "\\end{aligned}\n",
    "$$\n",
    "\n",
    "#### calculando $\\text{Var}[\\hat Y]$:\n",
    "\n",
    "$$\n",
    "\\begin{aligned}\n",
    "\\text{Var}[\\hat Y] &= \\text{Var}[X\\hat\\beta]\\\\\n",
    "&= X\\text{Var}[\\hat\\beta]X^T\\\\\n",
    "&= X\\sigma^2(X^TX)^{-1}X^T\\\\\n",
    "&= \\sigma^2X(X^TX)^{-1}X^T\\\\\n",
    "\\end{aligned}\n",
    "$$"
   ]
  },
  {
   "cell_type": "markdown",
   "id": "4263151e",
   "metadata": {},
   "source": [
    "### d)\n",
    "\n",
    "Temos a resposta estimada $\\hat Y$:\n",
    "\n",
    "$$\n",
    "\\hat Y = X\\hat\\beta\n",
    "$$\n",
    "\n",
    "Substituindo $\\hat\\beta = (X^TX)^{-1}X^TY$:\n",
    "\n",
    "$$\n",
    "\\begin{aligned}\n",
    "\\hat Y &= X(X^TX)^{-1}X^TY\\\\\n",
    "\\end{aligned}\n",
    "$$\n",
    "\n",
    "Definimos $H = X(X^TX)^{-1}X^T$ a matriz que transforma $Y$ em $\\hat Y$.\n",
    "\n",
    "$H$ é idempotente, pois:\n",
    "\n",
    "$$\n",
    "H^2 = HH = X(X^TX)^{-1}X^TX(X^TX)^{-1}X^T = XI(X^TX)^{-1}X^T = X(X^TX)^{-1}X^T = H\n",
    "$$\n",
    "\n",
    "e simétrica, pois:\n",
    "\n",
    "$$\n",
    "\\begin{aligned}\n",
    "H^T = (X(X^TX)^{-1}X^T)^T &= (X^T)^T(X(X^TX)^{-1})^T\\\\\n",
    "&= X((X^TX)^{-1})^TX^T\\\\\n",
    "&= X(X^TX)^{-1}X^T\\\\\n",
    "&= H\n",
    "\\end{aligned}\n",
    "$$"
   ]
  },
  {
   "cell_type": "markdown",
   "id": "5de361dd",
   "metadata": {},
   "source": [
    "### e)\n",
    "\n",
    "$$\n",
    "\\begin{aligned}\n",
    "e &= Y - \\hat Y\\\\\n",
    "e &= Y - HY\\\\\n",
    "e &= (I - H)Y\\\\\n",
    "\\end{aligned}\n",
    "$$\n",
    "\n",
    "Calculando $E[e]$:\n",
    "\n",
    "$$\n",
    "\\begin{aligned}\n",
    "E[e] &= E[(I - H)Y]\\\\\n",
    "&= (I - H)E[Y](I - H)^T\\\\\n",
    "&= \\sigma^2(I - H)(I - H)^T\\\\\n",
    "\\end{aligned}\n",
    "$$"
   ]
  },
  {
   "cell_type": "markdown",
   "id": "c94362b8",
   "metadata": {},
   "source": [
    "### f)\n",
    "\n",
    "Calculando $E[\\hat Y_a]$:\n",
    "\n",
    "$$\n",
    "\\begin{aligned}\n",
    "\\hat Y_a &= X_a^T\\hat\\beta\\\\\n",
    "E[\\hat Y_a] &= E[X_a^T\\hat\\beta]\\\\\n",
    "&= X_a^TE[\\hat\\beta]\\\\\n",
    "&= X_a^T\\beta\\\\\n",
    "&= Y_a\n",
    "\\end{aligned}\n",
    "$$\n",
    "\n",
    "Calculando $\\text{Var}[\\hat Y_a]$:\n",
    "\n",
    "$$\n",
    "\\begin{aligned}\n",
    "\\text{Var}[X_a^T\\hat\\beta] &= X_a^T\\text{Var}[\\hat\\beta]X_a\\\\\n",
    "&= \\sigma^2X_a^T(X^TX)^{-1}X_a\\\\\n",
    "\\end{aligned}\n",
    "$$\n",
    "\n",
    "Assim,\n",
    "\n",
    "$$\n",
    "\\frac{\\hat Y_a - E[\\hat Y_a]}{\\text{SE}(\\hat Y_a)} = \\frac{\\hat Y_a - Y_a}{\\text{SE}(\\hat Y_a)} \\sim t_{n-p}\n",
    "$$\n",
    "\n",
    "O intervalo de confiança é dado então por:\n",
    "\n",
    "$$\n",
    "\\begin{aligned}\n",
    "&\\left[\\hat Y_a - t_{\\alpha/2, n-p}\\text{SE}[\\hat Y_a], \\hat Y_a + t_{\\alpha/2, n-p}\\text{SE}[\\hat Y_a]\\right]=\\\\\n",
    "&=\\left[\\hat Y_a - t_{\\alpha/2, n-p}\\sqrt{\\text{MSE}X_a^T(X^TX)^{-1}X_a}, \\hat Y_a + t_{\\alpha/2, n-p}\\sqrt{\\text{MSE}X_a^T(X^TX)^{-1}X_a}\\right]\n",
    "\\end{aligned}\n",
    "$$\n",
    "\n",
    "### g)\n",
    "\n",
    "Seja $\\psi = Y_a - \\hat Y_a$. \n",
    "\n",
    "Calculando $E[\\psi]$:\n",
    "\n",
    "$$\n",
    "\\begin{aligned}\n",
    "E[\\psi] &= E[Y_a - \\hat Y_a]\\\\\n",
    "&= E[Y_a] - E[\\hat Y_a]\\\\\n",
    "&= Y_a - Y_a\\\\\n",
    "&= 0\n",
    "\\end{aligned}\n",
    "$$\n",
    "\n",
    "Calculando $\\text{Var}[\\psi]$:\n",
    "\n",
    "$$\n",
    "\\begin{aligned}\n",
    "\\text{Var}[\\psi] &= \\text{Var}[Y_a - \\hat Y_a]\\\\\n",
    "&= \\text{Var}[Y_a - X_a^T\\hat\\beta]\\\\\n",
    "&= \\text{Var}[Y_a] - \\text{Var}[X_a^T\\hat\\beta] + \\text{Cov}[Y,\\hat Y]\\\\\n",
    "&= \\sigma^2 - \\sigma^2X_a^T(X^TX)^{-1}X_a\\\\\n",
    "&= \\sigma^2(1 - X_a^T(X^TX)^{-1}X_a)\\\\\n",
    "\\end{aligned}\n",
    "$$\n",
    "\n",
    "Assim,\n",
    "\n",
    "$$\n",
    "\\frac{\\psi - E[\\psi]}{\\text{SE}(\\psi)} = \\frac{Y_a - \\hat Y_a}{\\text{SE}(\\psi)} \\sim t_{n-p}\n",
    "$$\n",
    "\n",
    "Logo, o intervalo de predição é dado por:\n",
    "\n",
    "$$\n",
    "\\left[\\hat Y_a - t_{\\alpha/2, n-p}\\sqrt{\\text{MSE}(1 - X_a^T(X^TX)^{-1}X_a)}, \\hat Y_a + t_{\\alpha/2, n-p}\\sqrt{\\text{MSE}(1 - X_a^T(X^TX)^{-1}X_a)}\\right]\n",
    "$$"
   ]
  },
  {
   "cell_type": "markdown",
   "id": "c7c49f6a",
   "metadata": {},
   "source": [
    "## 2)\n",
    "\n",
    "### a)"
   ]
  },
  {
   "cell_type": "code",
   "execution_count": 1,
   "id": "99009d7f",
   "metadata": {},
   "outputs": [],
   "source": [
    "import numpy as np\n",
    "import matplotlib.pyplot as plt\n",
    "from scipy.stats import f"
   ]
  },
  {
   "cell_type": "code",
   "execution_count": 12,
   "id": "7380db96",
   "metadata": {},
   "outputs": [],
   "source": [
    "n = 1000\n",
    "p = 100\n",
    "np.random.seed(42)#fixando uma seed\n",
    "Y = np.random.normal(size=n)#vetor aleatorio com 1000 observacoes\n",
    "X = np.random.normal(size=[n,p])#matriz nxp com colunas amostrados de uma normal"
   ]
  },
  {
   "cell_type": "code",
   "execution_count": 13,
   "id": "daa1f89e",
   "metadata": {},
   "outputs": [],
   "source": [
    "# ajustando o modelo\n",
    "X = np.hstack([np.ones([n,1]), X])#considerando o intercepto\n",
    "beta = np.linalg.solve(X.T@X, X.T@Y)"
   ]
  },
  {
   "cell_type": "markdown",
   "id": "4ae8cc65",
   "metadata": {},
   "source": [
    "Seja o teste de hipótese:\n",
    "\n",
    "$$\n",
    "H_0: \\beta_1 = \\beta_2 = ... = \\beta_{p-1} = 0\\\\\n",
    "H_1: \\exists \\beta_i\\neq 0, i\\in\\{1,2,...,p-1\\}\n",
    "$$\n",
    "\n",
    "Rejeitaremos $H_0$ quando:\n",
    "\n",
    "$$\n",
    "F_0 = \\frac{\\text{MSR}}{\\text{MSE}} > F_{\\alpha, p, n-p-1}\n",
    "$$"
   ]
  },
  {
   "cell_type": "code",
   "execution_count": 14,
   "id": "77c82acf",
   "metadata": {},
   "outputs": [],
   "source": [
    "ssr = lambda X, beta, Y: beta@X.T@Y - (np.sum(Y)**2)/n\n",
    "sse = lambda X, beta, Y: Y@Y - beta@X.T@Y\n",
    "\n",
    "msr = ssr(X, beta, Y)/p\n",
    "mse = sse(X, beta, Y)/(n-p-1)\n",
    "F0 = msr/mse"
   ]
  },
  {
   "cell_type": "code",
   "execution_count": 15,
   "id": "44d4056b",
   "metadata": {},
   "outputs": [
    {
     "name": "stdout",
     "output_type": "stream",
     "text": [
      "Rejeitar H0 para alpha=0.1: True\n",
      "-----------------------------------\n",
      "Rejeitar H0 para alpha=0.05: True\n",
      "-----------------------------------\n",
      "Rejeitar H0 para alpha=0.01: True\n",
      "-----------------------------------\n"
     ]
    }
   ],
   "source": [
    "alpha = [0.1, 0.05, 0.01]\n",
    "\n",
    "for alpha in alpha:\n",
    "    print(f\"Rejeitar H0 para alpha={alpha}:\", abs(F0) > f.ppf(alpha/2, p, n-p-1))\n",
    "    print(35*\"-\")"
   ]
  },
  {
   "cell_type": "markdown",
   "id": "cb9e3ced",
   "metadata": {},
   "source": [
    "Dessa forma, rejeitamos $H_0$ e a regressão é significativa."
   ]
  },
  {
   "cell_type": "markdown",
   "id": "552b97c4",
   "metadata": {},
   "source": [
    "Agora, testamos as variáveis individualmente, utilizando a estatística:\n",
    "\n",
    "$$\n",
    "t_0 = \\frac{\\hat\\beta_j}{\\sqrt{\\text{MSE}C_{jj}}}\n",
    "$$\n",
    "\n",
    "onde $C = (X^TX)^{-1}$ \n",
    "\n",
    "Temos o teste:\n",
    "\n",
    "$$\n",
    "H_0: \\hat\\beta_j = 0\\\\\n",
    "H_1: \\hat\\beta_j \\neq 0 \n",
    "$$"
   ]
  },
  {
   "cell_type": "code",
   "execution_count": 16,
   "id": "10aff1b4",
   "metadata": {},
   "outputs": [],
   "source": [
    "from scipy.stats import t"
   ]
  },
  {
   "cell_type": "code",
   "execution_count": 17,
   "id": "aeb845a3",
   "metadata": {
    "scrolled": false
   },
   "outputs": [
    {
     "name": "stdout",
     "output_type": "stream",
     "text": [
      "num de coeficientes significativos p/ alpha = 0.1: 96\n",
      "num de coeficientes significativos p/ alpha = 0.05: 94\n",
      "num de coeficientes significativos p/ alpha = 0.01: 94\n"
     ]
    }
   ],
   "source": [
    "C = np.linalg.inv(X.T@X)\n",
    "t0 = np.zeros(p)\n",
    "\n",
    "alpha = [0.1, 0.05, 0.01]\n",
    "\n",
    "for i in range(p):\n",
    "    t0[i] = beta[i]/(mse*C[i,i])\n",
    "for alpha in alpha:\n",
    "    print(f\"num de coeficientes significativos p/ alpha = {alpha}:\", (abs(t0) > t.ppf(1-alpha/2, n-p-1)).sum())"
   ]
  },
  {
   "cell_type": "code",
   "execution_count": 18,
   "id": "d7ef1852",
   "metadata": {},
   "outputs": [
    {
     "name": "stdout",
     "output_type": "stream",
     "text": [
      "R^2: 0.8976648561612209\n",
      "R^2 ajustado: 0.9999989756241858\n"
     ]
    }
   ],
   "source": [
    "#calculando R^2\n",
    "ssr_e2 = ssr(X, beta, Y)\n",
    "sse_e2 = sse(X, beta, Y)\n",
    "print(\"R^2:\", 1 - ssr_e2/(sse_e2+ssr_e2))\n",
    "print(\"R^2 ajustado:\", 1 - (ssr_e2/p)/(sse_e2+ssr_e2)/(n-1))"
   ]
  },
  {
   "cell_type": "code",
   "execution_count": 20,
   "id": "86523d3d",
   "metadata": {},
   "outputs": [
    {
     "data": {
      "text/plain": [
       "array([ 0.03452467, -0.01593272,  0.0711082 ,  0.04972458, -0.01025069,\n",
       "        0.05761531, -0.0022316 , -0.00403787,  0.03024919, -0.05434425,\n",
       "        0.05968718, -0.04741611, -0.01247864, -0.03538685, -0.03900649,\n",
       "        0.07991353,  0.0205462 , -0.01289107, -0.02803072, -0.01961474,\n",
       "        0.00295037, -0.03256313, -0.00353337, -0.02253043,  0.02056319,\n",
       "       -0.02984089, -0.03984062, -0.01891057,  0.02770081,  0.03266864,\n",
       "       -0.00706643, -0.00534355, -0.01691656,  0.02100504, -0.02725975,\n",
       "        0.06368388,  0.02233746,  0.03261672,  0.0145941 ,  0.00722375,\n",
       "       -0.04106069,  0.01353628,  0.03655903, -0.02846845,  0.02944862,\n",
       "        0.00353889,  0.01802527, -0.00302015, -0.0424659 ,  0.05036214,\n",
       "        0.02142602, -0.04586118, -0.05079075, -0.02479781, -0.03595608,\n",
       "       -0.06649383,  0.04585327,  0.02319009, -0.02798072,  0.04238027,\n",
       "       -0.00508085, -0.03306391, -0.01218835,  0.04979651, -0.02073922,\n",
       "       -0.02374709, -0.03801742,  0.02775049,  0.0556057 , -0.02690512,\n",
       "        0.01179597, -0.00924555,  0.03033459,  0.00325867, -0.0182021 ,\n",
       "       -0.02827492, -0.05321536, -0.03001718, -0.00986483,  0.01707321,\n",
       "        0.00738739,  0.00910963,  0.03872936,  0.06356807, -0.03553015,\n",
       "        0.06792148,  0.02170879,  0.01420321, -0.06542656, -0.02859746,\n",
       "       -0.03303572, -0.08058098, -0.02582245,  0.03067605])"
      ]
     },
     "execution_count": 20,
     "metadata": {},
     "output_type": "execute_result"
    }
   ],
   "source": [
    "idx = np.argwhere(abs(t0) > t.ppf(1-alpha/2, n-p-1))\n",
    "idx = idx.reshape(len(idx))\n",
    "\n",
    "X_new = X[:,idx]\n",
    "\n",
    "beta_new = np.linalg.solve(X_new.T@X_new, X_new.T@Y)\n",
    "beta_new"
   ]
  },
  {
   "cell_type": "code",
   "execution_count": 21,
   "id": "9158b878",
   "metadata": {},
   "outputs": [
    {
     "name": "stdout",
     "output_type": "stream",
     "text": [
      "R^2: 0.8978673832269518\n",
      "R^2 ajustado: 0.9999989776514837\n"
     ]
    }
   ],
   "source": [
    "#calculando R^2\n",
    "ssr_e2 = ssr(X_new, beta_new, Y)\n",
    "sse_e2 = sse(X_new, beta_new, Y)\n",
    "print(\"R^2:\", 1 - ssr_e2/(sse_e2+ssr_e2))\n",
    "print(\"R^2 ajustado:\", 1 - (ssr_e2/p)/(sse_e2+ssr_e2)/(n-1))"
   ]
  },
  {
   "cell_type": "markdown",
   "id": "8faee1ad",
   "metadata": {},
   "source": [
    "## 3)\n",
    "\n",
    "### a)"
   ]
  },
  {
   "cell_type": "code",
   "execution_count": 22,
   "id": "6360be36",
   "metadata": {},
   "outputs": [],
   "source": [
    "import pandas as pd\n",
    "import seaborn as sns\n",
    "sns.set()"
   ]
  },
  {
   "cell_type": "code",
   "execution_count": 23,
   "id": "3804c7dc",
   "metadata": {},
   "outputs": [
    {
     "data": {
      "text/html": [
       "<div>\n",
       "<style scoped>\n",
       "    .dataframe tbody tr th:only-of-type {\n",
       "        vertical-align: middle;\n",
       "    }\n",
       "\n",
       "    .dataframe tbody tr th {\n",
       "        vertical-align: top;\n",
       "    }\n",
       "\n",
       "    .dataframe thead th {\n",
       "        text-align: right;\n",
       "    }\n",
       "</style>\n",
       "<table border=\"1\" class=\"dataframe\">\n",
       "  <thead>\n",
       "    <tr style=\"text-align: right;\">\n",
       "      <th></th>\n",
       "      <th>id</th>\n",
       "      <th>tempo</th>\n",
       "      <th>idade</th>\n",
       "      <th>risco_infeccao</th>\n",
       "      <th>cultura</th>\n",
       "      <th>x_ray</th>\n",
       "      <th>numero_camas</th>\n",
       "      <th>afiliacao</th>\n",
       "      <th>regiao</th>\n",
       "      <th>census</th>\n",
       "      <th>enfermeiras</th>\n",
       "      <th>servicos</th>\n",
       "    </tr>\n",
       "  </thead>\n",
       "  <tbody>\n",
       "    <tr>\n",
       "      <th>0</th>\n",
       "      <td>1</td>\n",
       "      <td>7.13</td>\n",
       "      <td>55.7</td>\n",
       "      <td>4.1</td>\n",
       "      <td>9.0</td>\n",
       "      <td>39.6</td>\n",
       "      <td>279</td>\n",
       "      <td>2</td>\n",
       "      <td>4</td>\n",
       "      <td>207</td>\n",
       "      <td>241</td>\n",
       "      <td>60.0</td>\n",
       "    </tr>\n",
       "    <tr>\n",
       "      <th>1</th>\n",
       "      <td>2</td>\n",
       "      <td>8.82</td>\n",
       "      <td>58.2</td>\n",
       "      <td>1.6</td>\n",
       "      <td>3.8</td>\n",
       "      <td>51.7</td>\n",
       "      <td>80</td>\n",
       "      <td>2</td>\n",
       "      <td>2</td>\n",
       "      <td>51</td>\n",
       "      <td>52</td>\n",
       "      <td>40.0</td>\n",
       "    </tr>\n",
       "    <tr>\n",
       "      <th>2</th>\n",
       "      <td>3</td>\n",
       "      <td>8.34</td>\n",
       "      <td>56.9</td>\n",
       "      <td>2.7</td>\n",
       "      <td>8.1</td>\n",
       "      <td>74.0</td>\n",
       "      <td>107</td>\n",
       "      <td>2</td>\n",
       "      <td>3</td>\n",
       "      <td>82</td>\n",
       "      <td>54</td>\n",
       "      <td>20.0</td>\n",
       "    </tr>\n",
       "    <tr>\n",
       "      <th>3</th>\n",
       "      <td>4</td>\n",
       "      <td>8.95</td>\n",
       "      <td>53.7</td>\n",
       "      <td>5.6</td>\n",
       "      <td>18.9</td>\n",
       "      <td>122.8</td>\n",
       "      <td>147</td>\n",
       "      <td>2</td>\n",
       "      <td>4</td>\n",
       "      <td>53</td>\n",
       "      <td>148</td>\n",
       "      <td>40.0</td>\n",
       "    </tr>\n",
       "    <tr>\n",
       "      <th>4</th>\n",
       "      <td>5</td>\n",
       "      <td>11.20</td>\n",
       "      <td>56.5</td>\n",
       "      <td>5.7</td>\n",
       "      <td>34.5</td>\n",
       "      <td>88.9</td>\n",
       "      <td>180</td>\n",
       "      <td>2</td>\n",
       "      <td>1</td>\n",
       "      <td>134</td>\n",
       "      <td>151</td>\n",
       "      <td>40.0</td>\n",
       "    </tr>\n",
       "    <tr>\n",
       "      <th>...</th>\n",
       "      <td>...</td>\n",
       "      <td>...</td>\n",
       "      <td>...</td>\n",
       "      <td>...</td>\n",
       "      <td>...</td>\n",
       "      <td>...</td>\n",
       "      <td>...</td>\n",
       "      <td>...</td>\n",
       "      <td>...</td>\n",
       "      <td>...</td>\n",
       "      <td>...</td>\n",
       "      <td>...</td>\n",
       "    </tr>\n",
       "    <tr>\n",
       "      <th>108</th>\n",
       "      <td>109</td>\n",
       "      <td>11.80</td>\n",
       "      <td>53.8</td>\n",
       "      <td>5.7</td>\n",
       "      <td>9.1</td>\n",
       "      <td>116.9</td>\n",
       "      <td>571</td>\n",
       "      <td>1</td>\n",
       "      <td>2</td>\n",
       "      <td>441</td>\n",
       "      <td>469</td>\n",
       "      <td>62.9</td>\n",
       "    </tr>\n",
       "    <tr>\n",
       "      <th>109</th>\n",
       "      <td>110</td>\n",
       "      <td>9.50</td>\n",
       "      <td>49.3</td>\n",
       "      <td>5.8</td>\n",
       "      <td>42.0</td>\n",
       "      <td>70.9</td>\n",
       "      <td>98</td>\n",
       "      <td>2</td>\n",
       "      <td>3</td>\n",
       "      <td>68</td>\n",
       "      <td>46</td>\n",
       "      <td>22.9</td>\n",
       "    </tr>\n",
       "    <tr>\n",
       "      <th>110</th>\n",
       "      <td>111</td>\n",
       "      <td>7.70</td>\n",
       "      <td>56.9</td>\n",
       "      <td>4.4</td>\n",
       "      <td>12.2</td>\n",
       "      <td>67.9</td>\n",
       "      <td>129</td>\n",
       "      <td>2</td>\n",
       "      <td>4</td>\n",
       "      <td>85</td>\n",
       "      <td>136</td>\n",
       "      <td>62.9</td>\n",
       "    </tr>\n",
       "    <tr>\n",
       "      <th>111</th>\n",
       "      <td>112</td>\n",
       "      <td>17.94</td>\n",
       "      <td>56.2</td>\n",
       "      <td>5.9</td>\n",
       "      <td>26.4</td>\n",
       "      <td>91.8</td>\n",
       "      <td>835</td>\n",
       "      <td>1</td>\n",
       "      <td>1</td>\n",
       "      <td>791</td>\n",
       "      <td>407</td>\n",
       "      <td>62.9</td>\n",
       "    </tr>\n",
       "    <tr>\n",
       "      <th>112</th>\n",
       "      <td>113</td>\n",
       "      <td>9.41</td>\n",
       "      <td>59.5</td>\n",
       "      <td>3.1</td>\n",
       "      <td>20.6</td>\n",
       "      <td>91.7</td>\n",
       "      <td>29</td>\n",
       "      <td>2</td>\n",
       "      <td>3</td>\n",
       "      <td>20</td>\n",
       "      <td>22</td>\n",
       "      <td>22.9</td>\n",
       "    </tr>\n",
       "  </tbody>\n",
       "</table>\n",
       "<p>113 rows × 12 columns</p>\n",
       "</div>"
      ],
      "text/plain": [
       "      id  tempo  idade  risco_infeccao  cultura  x_ray  numero_camas  \\\n",
       "0      1   7.13   55.7             4.1      9.0   39.6           279   \n",
       "1      2   8.82   58.2             1.6      3.8   51.7            80   \n",
       "2      3   8.34   56.9             2.7      8.1   74.0           107   \n",
       "3      4   8.95   53.7             5.6     18.9  122.8           147   \n",
       "4      5  11.20   56.5             5.7     34.5   88.9           180   \n",
       "..   ...    ...    ...             ...      ...    ...           ...   \n",
       "108  109  11.80   53.8             5.7      9.1  116.9           571   \n",
       "109  110   9.50   49.3             5.8     42.0   70.9            98   \n",
       "110  111   7.70   56.9             4.4     12.2   67.9           129   \n",
       "111  112  17.94   56.2             5.9     26.4   91.8           835   \n",
       "112  113   9.41   59.5             3.1     20.6   91.7            29   \n",
       "\n",
       "     afiliacao  regiao  census  enfermeiras  servicos  \n",
       "0            2       4     207          241      60.0  \n",
       "1            2       2      51           52      40.0  \n",
       "2            2       3      82           54      20.0  \n",
       "3            2       4      53          148      40.0  \n",
       "4            2       1     134          151      40.0  \n",
       "..         ...     ...     ...          ...       ...  \n",
       "108          1       2     441          469      62.9  \n",
       "109          2       3      68           46      22.9  \n",
       "110          2       4      85          136      62.9  \n",
       "111          1       1     791          407      62.9  \n",
       "112          2       3      20           22      22.9  \n",
       "\n",
       "[113 rows x 12 columns]"
      ]
     },
     "execution_count": 23,
     "metadata": {},
     "output_type": "execute_result"
    }
   ],
   "source": [
    "df = pd.read_csv(\"SENIC.csv\")\n",
    "df"
   ]
  },
  {
   "cell_type": "code",
   "execution_count": 24,
   "id": "98e694ec",
   "metadata": {
    "scrolled": false
   },
   "outputs": [
    {
     "data": {
      "text/plain": [
       "<seaborn.axisgrid.PairGrid at 0x7f95393ec6d0>"
      ]
     },
     "execution_count": 24,
     "metadata": {},
     "output_type": "execute_result"
    },
    {
     "data": {
      "image/png": "[encoded data removed]",
      "text/plain": [
       "<Figure size 540x540 with 12 Axes>"
      ]
     },
     "metadata": {},
     "output_type": "display_data"
    }
   ],
   "source": [
    "model1 = df[[\"idade\", \"risco_infeccao\", \"servicos\"]]\n",
    "model2 = df[[\"numero_camas\", \"risco_infeccao\", \"servicos\"]]\n",
    "Y = df[\"tempo\"].to_numpy()\n",
    "sns.pairplot(model1)#scatter do modelo 1"
   ]
  },
  {
   "cell_type": "code",
   "execution_count": 25,
   "id": "f7dfdbcb",
   "metadata": {},
   "outputs": [
    {
     "data": {
      "text/plain": [
       "<AxesSubplot:>"
      ]
     },
     "execution_count": 25,
     "metadata": {},
     "output_type": "execute_result"
    },
    {
     "data": {
      "image/png": "[encoded data removed]",
      "text/plain": [
       "<Figure size 432x288 with 2 Axes>"
      ]
     },
     "metadata": {},
     "output_type": "display_data"
    }
   ],
   "source": [
    "sns.heatmap(model1.corr())# correlacoes do modelo 1"
   ]
  },
  {
   "cell_type": "code",
   "execution_count": 26,
   "id": "4f8e7f9a",
   "metadata": {
    "scrolled": false
   },
   "outputs": [
    {
     "data": {
      "text/plain": [
       "<seaborn.axisgrid.PairGrid at 0x7f9538d97f10>"
      ]
     },
     "execution_count": 26,
     "metadata": {},
     "output_type": "execute_result"
    },
    {
     "data": {
      "image/png": "[encoded data removed]",
      "text/plain": [
       "<Figure size 540x540 with 12 Axes>"
      ]
     },
     "metadata": {},
     "output_type": "display_data"
    }
   ],
   "source": [
    "sns.pairplot(model2)#scatter do modelo 2"
   ]
  },
  {
   "cell_type": "code",
   "execution_count": 27,
   "id": "ccaa1bcc",
   "metadata": {},
   "outputs": [
    {
     "data": {
      "text/plain": [
       "<AxesSubplot:>"
      ]
     },
     "execution_count": 27,
     "metadata": {},
     "output_type": "execute_result"
    },
    {
     "data": {
      "image/png": "[encoded data removed]",
      "text/plain": [
       "<Figure size 432x288 with 2 Axes>"
      ]
     },
     "metadata": {},
     "output_type": "display_data"
    }
   ],
   "source": [
    "sns.heatmap(model2.corr())# correlacoes do modelo 2"
   ]
  },
  {
   "cell_type": "markdown",
   "id": "105b6bdc",
   "metadata": {},
   "source": [
    "### b)"
   ]
  },
  {
   "cell_type": "code",
   "execution_count": 28,
   "id": "d395c991",
   "metadata": {},
   "outputs": [],
   "source": [
    "#ajustando o modelo 1\n",
    "X1 = model1.to_numpy()\n",
    "n,p = X1.shape\n",
    "p += 1\n",
    "X1 = np.hstack([np.ones([n,1]), X1])\n",
    "beta_m1 = np.linalg.solve(X1.T@X1, X1.T@Y)\n",
    "#ajustando o modelo 2\n",
    "X2 = model2.to_numpy()\n",
    "X2 = np.hstack([np.ones([n,1]), X2])\n",
    "beta_m2 = np.linalg.solve(X2.T@X2, X2.T@Y)"
   ]
  },
  {
   "cell_type": "markdown",
   "id": "8bec7833",
   "metadata": {},
   "source": [
    "### c)"
   ]
  },
  {
   "cell_type": "code",
   "execution_count": 29,
   "id": "dd614d6b",
   "metadata": {},
   "outputs": [
    {
     "name": "stdout",
     "output_type": "stream",
     "text": [
      "R^2 do modelo 1: 0.6552258800238291\n",
      "R^2 ajustado do modelo 1: 0.9992304149107675\n"
     ]
    }
   ],
   "source": [
    "#calculando R^2\n",
    "ssr1 = ssr(X1, beta_m1, Y)\n",
    "sse1 = sse(X1, beta_m1, Y)\n",
    "print(\"R^2 do modelo 1:\", 1 - ssr1/(sse1+ssr1))\n",
    "print(\"R^2 ajustado do modelo 1:\", 1 - (ssr1/p)/(sse1+ssr1)/(n-1))"
   ]
  },
  {
   "cell_type": "code",
   "execution_count": 30,
   "id": "98758201",
   "metadata": {},
   "outputs": [
    {
     "name": "stdout",
     "output_type": "stream",
     "text": [
      "R^2 do modelo 2: 0.6592639983095301\n",
      "R^2 ajustado do modelo 1: 0.9992394285676552\n"
     ]
    }
   ],
   "source": [
    "ssr2 = ssr(X2, beta_m2, Y)\n",
    "sse2 = sse(X2, beta_m2, Y)\n",
    "print(\"R^2 do modelo 2:\" ,1 - ssr2/(sse2+ssr2))\n",
    "print(\"R^2 ajustado do modelo 1:\", 1 - (ssr2/p)/(sse2+ssr2)/(n-1))"
   ]
  },
  {
   "cell_type": "markdown",
   "id": "cbfa0b5f",
   "metadata": {},
   "source": [
    "### d)"
   ]
  },
  {
   "cell_type": "code",
   "execution_count": 31,
   "id": "c5d8cda8",
   "metadata": {},
   "outputs": [
    {
     "data": {
      "image/png": "[encoded data removed]",
      "text/plain": [
       "<Figure size 720x576 with 2 Axes>"
      ]
     },
     "metadata": {},
     "output_type": "display_data"
    }
   ],
   "source": [
    "Yh1 = X1@beta_m1\n",
    "Yh2 = X2@beta_m2\n",
    "res1 = Y - Yh1\n",
    "res2 = Y - Yh2\n",
    "\n",
    "fig, axs = plt.subplots(1,2, figsize=(10,8))\n",
    "\n",
    "axs[0].scatter(res1, Yh1)\n",
    "axs[0].set_aspect('equal')\n",
    "axs[0].set_title('modelo 1')\n",
    "\n",
    "axs[1].scatter(res2, Yh2)\n",
    "axs[1].set_aspect('equal')\n",
    "axs[1].set_title('modelo 2')\n",
    "fig.tight_layout()"
   ]
  },
  {
   "cell_type": "code",
   "execution_count": 32,
   "id": "b4a03bb8",
   "metadata": {},
   "outputs": [
    {
     "data": {
      "text/plain": [
       "(113, 4)"
      ]
     },
     "execution_count": 32,
     "metadata": {},
     "output_type": "execute_result"
    }
   ],
   "source": [
    "X1.shape"
   ]
  },
  {
   "cell_type": "code",
   "execution_count": 33,
   "id": "0123a9f1",
   "metadata": {},
   "outputs": [
    {
     "data": {
      "image/png": "[encoded data removed]",
      "text/plain": [
       "<Figure size 432x288 with 3 Axes>"
      ]
     },
     "metadata": {},
     "output_type": "display_data"
    },
    {
     "data": {
      "image/png": "[encoded data removed]",
      "text/plain": [
       "<Figure size 432x288 with 3 Axes>"
      ]
     },
     "metadata": {},
     "output_type": "display_data"
    }
   ],
   "source": [
    "plt.rcParams['text.usetex'] = True\n",
    "\n",
    "fig1, axs1 = plt.subplots(1,3)\n",
    "fig2, axs2 = plt.subplots(1,3)\n",
    "\n",
    "for i in range(1,4):\n",
    "    axs1[i-1].scatter(X1[:,i], res1)\n",
    "    axs1[i-1].set_title(f\"$X_{i}\\\\times\\hat Y$\")\n",
    "    axs2[i-1].scatter(X2[:,i], res2)\n",
    "    axs2[i-1].set_title(f\"$X_{i}\\\\times\\hat Y$\")\n",
    "\n",
    "fig1.suptitle(\"Modelo 1\")\n",
    "fig2.suptitle(\"Modelo 2\")\n",
    "fig1.tight_layout()\n",
    "fig2.tight_layout()"
   ]
  },
  {
   "cell_type": "code",
   "execution_count": 34,
   "id": "d57839c1",
   "metadata": {},
   "outputs": [],
   "source": [
    "from statsmodels.graphics.gofplots import qqplot"
   ]
  },
  {
   "cell_type": "code",
   "execution_count": 35,
   "id": "a270139e",
   "metadata": {},
   "outputs": [
    {
     "data": {
      "image/png": "[encoded data removed]",
      "text/plain": [
       "<Figure size 432x288 with 1 Axes>"
      ]
     },
     "metadata": {},
     "output_type": "display_data"
    }
   ],
   "source": [
    "_ = qqplot(res1)"
   ]
  },
  {
   "cell_type": "code",
   "execution_count": 36,
   "id": "bb0a7fae",
   "metadata": {},
   "outputs": [
    {
     "data": {
      "image/png": "[encoded data removed]",
      "text/plain": [
       "<Figure size 432x288 with 1 Axes>"
      ]
     },
     "metadata": {},
     "output_type": "display_data"
    }
   ],
   "source": [
    "_ = qqplot(res2)"
   ]
  },
  {
   "cell_type": "markdown",
   "id": "9ea5a070",
   "metadata": {},
   "source": [
    "## 4)\n",
    "\n",
    "### a)"
   ]
  },
  {
   "cell_type": "code",
   "execution_count": 38,
   "id": "f1282527",
   "metadata": {
    "scrolled": true
   },
   "outputs": [
    {
     "data": {
      "text/plain": [
       "<AxesSubplot:>"
      ]
     },
     "execution_count": 38,
     "metadata": {},
     "output_type": "execute_result"
    },
    {
     "data": {
      "image/png": "[encoded data removed]",
      "text/plain": [
       "<Figure size 432x288 with 2 Axes>"
      ]
     },
     "metadata": {},
     "output_type": "display_data"
    }
   ],
   "source": [
    "model = df[[\"idade\", \"numero_camas\", \"risco_infeccao\", \"servicos\"]]\n",
    "sns.heatmap(model.corr())# correlacoes do modelo"
   ]
  },
  {
   "cell_type": "markdown",
   "id": "6e481f3a",
   "metadata": {},
   "source": [
    "### b)"
   ]
  },
  {
   "cell_type": "code",
   "execution_count": 57,
   "id": "25c19f84",
   "metadata": {
    "scrolled": true
   },
   "outputs": [
    {
     "name": "stdout",
     "output_type": "stream",
     "text": [
      "beta0 = 7.718767163692531\n",
      "beta1 = 0.04470767080228502\n",
      "-----------------------------------\n",
      "SE(beta1) = 0.011056340622722666\n"
     ]
    }
   ],
   "source": [
    "X = df[\"servicos\"]\n",
    "X = X.to_numpy()\n",
    "\n",
    "b1 = sum((X - X.mean())*(Y-Y.mean()))/sum((X - X.mean())**2)\n",
    "b0 = Y.mean() - b1*X.mean()\n",
    "\n",
    "print(\"beta0 =\", b0)\n",
    "print(\"beta1 =\", b1)\n",
    "print(35*\"-\")\n",
    "\n",
    "mse = np.sum((Y - (b0 + b1*X))**2)/len(Y) \n",
    "sxx = np.sum((X - X.mean())**2)\n",
    "se_beta_simple = np.sqrt(mse/sxx)\n",
    "print(\"SE(beta1) =\", se_beta_simple)"
   ]
  },
  {
   "cell_type": "markdown",
   "id": "fa171e46",
   "metadata": {},
   "source": [
    "### c)"
   ]
  },
  {
   "cell_type": "code",
   "execution_count": 58,
   "id": "167b66a7",
   "metadata": {},
   "outputs": [
    {
     "name": "stdout",
     "output_type": "stream",
     "text": [
      "y =  + 1.8136023935110364 + 0.08747023218643461*X1 + 0.003168547343769416*X2 + 0.6406348175881315*X3 + -0.009508337381672649*X4\n"
     ]
    }
   ],
   "source": [
    "Y = df[\"tempo\"].to_numpy()\n",
    "X = model.to_numpy()\n",
    "X = np.hstack([np.ones([n,1]), X])\n",
    "\n",
    "beta = np.linalg.solve(X.T@X, X.T@Y)\n",
    "\n",
    "n, p = X.shape\n",
    "model_eq = [f\"{beta[i]}*X{i}\" for i in range(1,p)]\n",
    "model_eq = np.insert(model_eq, 0, beta[0], axis=0)\n",
    "print(\"y = \", *model_eq, sep=' + ')"
   ]
  },
  {
   "cell_type": "markdown",
   "id": "abd2d3d5",
   "metadata": {},
   "source": [
    "### d)"
   ]
  },
  {
   "cell_type": "code",
   "execution_count": 59,
   "id": "50056cae",
   "metadata": {},
   "outputs": [
    {
     "name": "stdout",
     "output_type": "stream",
     "text": [
      "|beta_b - beta_c| = 0.5959271467858465\n"
     ]
    }
   ],
   "source": [
    "print(\"|beta_b - beta_c| =\", abs(b1 - beta[3]))"
   ]
  },
  {
   "cell_type": "code",
   "execution_count": 60,
   "id": "3c226cb0",
   "metadata": {},
   "outputs": [
    {
     "name": "stdout",
     "output_type": "stream",
     "text": [
      "rejeitar H0: True\n",
      "-----------------------------------\n",
      "rejeitar H0: True\n"
     ]
    }
   ],
   "source": [
    "alpha = 0.05\n",
    "\n",
    "t0_b = b1/se_beta\n",
    "print(\"rejeitar H0:\", abs(t0_b) > t.ppf(1-alpha/2, n-2))\n",
    "\n",
    "print(35*\"-\")\n",
    "\n",
    "mse = sse(X, beta, Y)/(n-p-1)\n",
    "var_beta = mse*np.linalg.inv(X.T@X)\n",
    "se_beta_mult = np.sqrt(np.diagonal(var_beta))\n",
    "t0_c = beta[3]/se_beta_mult[3]\n",
    "print(\"rejeitar H0:\", abs(t0_c) > t.ppf(1-alpha/2, n-p-1))"
   ]
  },
  {
   "cell_type": "markdown",
   "id": "cba59b03",
   "metadata": {},
   "source": [
    "A variável `servicos` apresenta correlação considerável com as variáveis `numero_camas` e `risco_infeccao`, logo, como o coeficiente estimado depende das variáveis incluidas no modelo, é razoável a diferença entre os estimadores obtidos."
   ]
  },
  {
   "cell_type": "markdown",
   "id": "19c6a734",
   "metadata": {},
   "source": [
    "### e)"
   ]
  },
  {
   "cell_type": "code",
   "execution_count": 62,
   "id": "d5eb45fe",
   "metadata": {},
   "outputs": [
    {
     "name": "stdout",
     "output_type": "stream",
     "text": [
      "rejeitar H0: True\n"
     ]
    }
   ],
   "source": [
    "#ja calculamos SE no item anterior:\n",
    "t0 = beta[2]/se_beta_mult[2]\n",
    "print(\"rejeitar H0:\", abs(t0) > t.ppf(1-alpha/2, n-p-1))"
   ]
  },
  {
   "cell_type": "markdown",
   "id": "82afe008",
   "metadata": {},
   "source": [
    "### f)"
   ]
  },
  {
   "cell_type": "code",
   "execution_count": 65,
   "id": "f9cb9249",
   "metadata": {},
   "outputs": [
    {
     "data": {
      "text/plain": [
       "2.3406399936683164"
      ]
     },
     "execution_count": 65,
     "metadata": {},
     "output_type": "execute_result"
    }
   ],
   "source": [
    "e = Y - X@beta\n",
    "e.T@e/(n-p)"
   ]
  },
  {
   "cell_type": "markdown",
   "id": "1ae92fda",
   "metadata": {},
   "source": [
    "## 5)"
   ]
  },
  {
   "cell_type": "code",
   "execution_count": 71,
   "id": "45220b1d",
   "metadata": {},
   "outputs": [
    {
     "data": {
      "text/html": [
       "<div>\n",
       "<style scoped>\n",
       "    .dataframe tbody tr th:only-of-type {\n",
       "        vertical-align: middle;\n",
       "    }\n",
       "\n",
       "    .dataframe tbody tr th {\n",
       "        vertical-align: top;\n",
       "    }\n",
       "\n",
       "    .dataframe thead th {\n",
       "        text-align: right;\n",
       "    }\n",
       "</style>\n",
       "<table border=\"1\" class=\"dataframe\">\n",
       "  <thead>\n",
       "    <tr style=\"text-align: right;\">\n",
       "      <th></th>\n",
       "      <th>id</th>\n",
       "      <th>tempo</th>\n",
       "      <th>idade</th>\n",
       "      <th>risco_infeccao</th>\n",
       "      <th>cultura</th>\n",
       "      <th>x_ray</th>\n",
       "      <th>numero_camas</th>\n",
       "      <th>afiliacao</th>\n",
       "      <th>regiao</th>\n",
       "      <th>census</th>\n",
       "      <th>enfermeiras</th>\n",
       "      <th>servicos</th>\n",
       "    </tr>\n",
       "  </thead>\n",
       "  <tbody>\n",
       "    <tr>\n",
       "      <th>0</th>\n",
       "      <td>1</td>\n",
       "      <td>7.13</td>\n",
       "      <td>55.7</td>\n",
       "      <td>4.1</td>\n",
       "      <td>9.0</td>\n",
       "      <td>39.6</td>\n",
       "      <td>279</td>\n",
       "      <td>2</td>\n",
       "      <td>4</td>\n",
       "      <td>207</td>\n",
       "      <td>241</td>\n",
       "      <td>60.0</td>\n",
       "    </tr>\n",
       "    <tr>\n",
       "      <th>1</th>\n",
       "      <td>2</td>\n",
       "      <td>8.82</td>\n",
       "      <td>58.2</td>\n",
       "      <td>1.6</td>\n",
       "      <td>3.8</td>\n",
       "      <td>51.7</td>\n",
       "      <td>80</td>\n",
       "      <td>2</td>\n",
       "      <td>2</td>\n",
       "      <td>51</td>\n",
       "      <td>52</td>\n",
       "      <td>40.0</td>\n",
       "    </tr>\n",
       "    <tr>\n",
       "      <th>2</th>\n",
       "      <td>3</td>\n",
       "      <td>8.34</td>\n",
       "      <td>56.9</td>\n",
       "      <td>2.7</td>\n",
       "      <td>8.1</td>\n",
       "      <td>74.0</td>\n",
       "      <td>107</td>\n",
       "      <td>2</td>\n",
       "      <td>3</td>\n",
       "      <td>82</td>\n",
       "      <td>54</td>\n",
       "      <td>20.0</td>\n",
       "    </tr>\n",
       "    <tr>\n",
       "      <th>3</th>\n",
       "      <td>4</td>\n",
       "      <td>8.95</td>\n",
       "      <td>53.7</td>\n",
       "      <td>5.6</td>\n",
       "      <td>18.9</td>\n",
       "      <td>122.8</td>\n",
       "      <td>147</td>\n",
       "      <td>2</td>\n",
       "      <td>4</td>\n",
       "      <td>53</td>\n",
       "      <td>148</td>\n",
       "      <td>40.0</td>\n",
       "    </tr>\n",
       "    <tr>\n",
       "      <th>4</th>\n",
       "      <td>5</td>\n",
       "      <td>11.20</td>\n",
       "      <td>56.5</td>\n",
       "      <td>5.7</td>\n",
       "      <td>34.5</td>\n",
       "      <td>88.9</td>\n",
       "      <td>180</td>\n",
       "      <td>2</td>\n",
       "      <td>1</td>\n",
       "      <td>134</td>\n",
       "      <td>151</td>\n",
       "      <td>40.0</td>\n",
       "    </tr>\n",
       "    <tr>\n",
       "      <th>...</th>\n",
       "      <td>...</td>\n",
       "      <td>...</td>\n",
       "      <td>...</td>\n",
       "      <td>...</td>\n",
       "      <td>...</td>\n",
       "      <td>...</td>\n",
       "      <td>...</td>\n",
       "      <td>...</td>\n",
       "      <td>...</td>\n",
       "      <td>...</td>\n",
       "      <td>...</td>\n",
       "      <td>...</td>\n",
       "    </tr>\n",
       "    <tr>\n",
       "      <th>108</th>\n",
       "      <td>109</td>\n",
       "      <td>11.80</td>\n",
       "      <td>53.8</td>\n",
       "      <td>5.7</td>\n",
       "      <td>9.1</td>\n",
       "      <td>116.9</td>\n",
       "      <td>571</td>\n",
       "      <td>1</td>\n",
       "      <td>2</td>\n",
       "      <td>441</td>\n",
       "      <td>469</td>\n",
       "      <td>62.9</td>\n",
       "    </tr>\n",
       "    <tr>\n",
       "      <th>109</th>\n",
       "      <td>110</td>\n",
       "      <td>9.50</td>\n",
       "      <td>49.3</td>\n",
       "      <td>5.8</td>\n",
       "      <td>42.0</td>\n",
       "      <td>70.9</td>\n",
       "      <td>98</td>\n",
       "      <td>2</td>\n",
       "      <td>3</td>\n",
       "      <td>68</td>\n",
       "      <td>46</td>\n",
       "      <td>22.9</td>\n",
       "    </tr>\n",
       "    <tr>\n",
       "      <th>110</th>\n",
       "      <td>111</td>\n",
       "      <td>7.70</td>\n",
       "      <td>56.9</td>\n",
       "      <td>4.4</td>\n",
       "      <td>12.2</td>\n",
       "      <td>67.9</td>\n",
       "      <td>129</td>\n",
       "      <td>2</td>\n",
       "      <td>4</td>\n",
       "      <td>85</td>\n",
       "      <td>136</td>\n",
       "      <td>62.9</td>\n",
       "    </tr>\n",
       "    <tr>\n",
       "      <th>111</th>\n",
       "      <td>112</td>\n",
       "      <td>17.94</td>\n",
       "      <td>56.2</td>\n",
       "      <td>5.9</td>\n",
       "      <td>26.4</td>\n",
       "      <td>91.8</td>\n",
       "      <td>835</td>\n",
       "      <td>1</td>\n",
       "      <td>1</td>\n",
       "      <td>791</td>\n",
       "      <td>407</td>\n",
       "      <td>62.9</td>\n",
       "    </tr>\n",
       "    <tr>\n",
       "      <th>112</th>\n",
       "      <td>113</td>\n",
       "      <td>9.41</td>\n",
       "      <td>59.5</td>\n",
       "      <td>3.1</td>\n",
       "      <td>20.6</td>\n",
       "      <td>91.7</td>\n",
       "      <td>29</td>\n",
       "      <td>2</td>\n",
       "      <td>3</td>\n",
       "      <td>20</td>\n",
       "      <td>22</td>\n",
       "      <td>22.9</td>\n",
       "    </tr>\n",
       "  </tbody>\n",
       "</table>\n",
       "<p>113 rows × 12 columns</p>\n",
       "</div>"
      ],
      "text/plain": [
       "      id  tempo  idade  risco_infeccao  cultura  x_ray  numero_camas  \\\n",
       "0      1   7.13   55.7             4.1      9.0   39.6           279   \n",
       "1      2   8.82   58.2             1.6      3.8   51.7            80   \n",
       "2      3   8.34   56.9             2.7      8.1   74.0           107   \n",
       "3      4   8.95   53.7             5.6     18.9  122.8           147   \n",
       "4      5  11.20   56.5             5.7     34.5   88.9           180   \n",
       "..   ...    ...    ...             ...      ...    ...           ...   \n",
       "108  109  11.80   53.8             5.7      9.1  116.9           571   \n",
       "109  110   9.50   49.3             5.8     42.0   70.9            98   \n",
       "110  111   7.70   56.9             4.4     12.2   67.9           129   \n",
       "111  112  17.94   56.2             5.9     26.4   91.8           835   \n",
       "112  113   9.41   59.5             3.1     20.6   91.7            29   \n",
       "\n",
       "     afiliacao  regiao  census  enfermeiras  servicos  \n",
       "0            2       4     207          241      60.0  \n",
       "1            2       2      51           52      40.0  \n",
       "2            2       3      82           54      20.0  \n",
       "3            2       4      53          148      40.0  \n",
       "4            2       1     134          151      40.0  \n",
       "..         ...     ...     ...          ...       ...  \n",
       "108          1       2     441          469      62.9  \n",
       "109          2       3      68           46      22.9  \n",
       "110          2       4      85          136      62.9  \n",
       "111          1       1     791          407      62.9  \n",
       "112          2       3      20           22      22.9  \n",
       "\n",
       "[113 rows x 12 columns]"
      ]
     },
     "execution_count": 71,
     "metadata": {},
     "output_type": "execute_result"
    }
   ],
   "source": [
    "df"
   ]
  },
  {
   "cell_type": "markdown",
   "id": "4aa83037",
   "metadata": {},
   "source": [
    "### a)"
   ]
  },
  {
   "cell_type": "code",
   "execution_count": 85,
   "id": "83b31fd1",
   "metadata": {},
   "outputs": [
    {
     "name": "stdout",
     "output_type": "stream",
     "text": [
      "y_regiao0 = + -5.381907728540448 + 0.2847071541651914*X1 + -0.0015176668879549366*X2 + 0.010103320668028307*X3\n",
      "y_regiao1 = + -5.381907728540448 + 0.01881497619949263*X1 + 0.03760159211278697*X2 + 0.0033074888490620563*X3\n",
      "y_regiao2 = + -5.381907728540448 + 0.08301429748369621*X1 + 0.059147978149638826*X2 + 0.0027347969083271434*X3\n",
      "y_regiao3 = + -5.381907728540448 + 0.05200926784887278*X1 + 0.02997810412338977*X2 + 0.0060859703876874945*X3\n"
     ]
    }
   ],
   "source": [
    "regiao1 = df[df['regiao'] == 1]\n",
    "regiao2 = df[df['regiao'] == 2]\n",
    "regiao3 = df[df['regiao'] == 3]\n",
    "regiao4 = df[df['regiao'] == 4]\n",
    "\n",
    "model_regiao1 = regiao1[['idade', 'cultura', 'census', 'servicos']]\n",
    "model_regiao2 = regiao2[['idade', 'cultura', 'census', 'servicos']]\n",
    "model_regiao3 = regiao3[['idade', 'cultura', 'census', 'servicos']]\n",
    "model_regiao4 = regiao4[['idade', 'cultura', 'census', 'servicos']]\n",
    "\n",
    "def fit_model(model, Y):\n",
    "    \n",
    "    model = model.to_numpy()\n",
    "    n, _ = model.shape\n",
    "    model = np.hstack([np.ones([n,1]), model])\n",
    "    beta = np.linalg.solve(model.T@model, model.T@Y)\n",
    "    \n",
    "    return beta\n",
    "\n",
    "Y_regiao1 = regiao1['tempo'].to_numpy()\n",
    "Y_regiao2 = regiao2['tempo'].to_numpy()\n",
    "Y_regiao3 = regiao3['tempo'].to_numpy()\n",
    "Y_regiao4 = regiao4['tempo'].to_numpy()\n",
    "\n",
    "beta_regiao1 = fit_model(model_regiao1, Y_regiao1)\n",
    "beta_regiao2 = fit_model(model_regiao2, Y_regiao2)\n",
    "beta_regiao3 = fit_model(model_regiao3, Y_regiao3)\n",
    "beta_regiao4 = fit_model(model_regiao4, Y_regiao4)\n",
    "\n",
    "betas = [beta_regiao1, beta_regiao2, beta_regiao3, beta_regiao4]\n",
    "\n",
    "for j in range(4):\n",
    "    n,p = model_regiao1.shape\n",
    "    model_eq = [f\"{betas[j][i]}*X{i}\" for i in range(1,p)]\n",
    "    model_eq = np.insert(model_eq, 0, model[0], axis=0)\n",
    "    print(f\"y_regiao{j} =\", *model_eq, sep=' + ')"
   ]
  },
  {
   "cell_type": "markdown",
   "id": "06997cc2",
   "metadata": {},
   "source": [
    "### b)"
   ]
  },
  {
   "cell_type": "code",
   "execution_count": null,
   "id": "b9d1f308",
   "metadata": {},
   "outputs": [],
   "source": []
  }
 ],
 "metadata": {
  "kernelspec": {
   "display_name": "Python 3 (ipykernel)",
   "language": "python",
   "name": "python3"
  },
  "language_info": {
   "codemirror_mode": {
    "name": "ipython",
    "version": 3
   },
   "file_extension": ".py",
   "mimetype": "text/x-python",
   "name": "python",
   "nbconvert_exporter": "python",
   "pygments_lexer": "ipython3",
   "version": "3.10.8"
  }
 },
 "nbformat": 4,
 "nbformat_minor": 5
}
